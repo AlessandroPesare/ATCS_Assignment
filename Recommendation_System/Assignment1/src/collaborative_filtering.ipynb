{
 "cells": [
  {
   "cell_type": "markdown",
   "metadata": {},
   "source": [
    "# Collaborative filtering with user based approach"
   ]
  },
  {
   "cell_type": "code",
   "execution_count": 1,
   "metadata": {},
   "outputs": [],
   "source": [
    "import pandas as pd\n",
    "import numpy as np"
   ]
  },
  {
   "cell_type": "markdown",
   "metadata": {},
   "source": [
    "## Load Data"
   ]
  },
  {
   "cell_type": "code",
   "execution_count": 2,
   "metadata": {},
   "outputs": [],
   "source": [
    "ratings_df = pd.read_csv('../dataset/ratings.csv')"
   ]
  },
  {
   "cell_type": "code",
   "execution_count": 3,
   "metadata": {},
   "outputs": [
    {
     "data": {
      "text/html": [
       "<div>\n",
       "<style scoped>\n",
       "    .dataframe tbody tr th:only-of-type {\n",
       "        vertical-align: middle;\n",
       "    }\n",
       "\n",
       "    .dataframe tbody tr th {\n",
       "        vertical-align: top;\n",
       "    }\n",
       "\n",
       "    .dataframe thead th {\n",
       "        text-align: right;\n",
       "    }\n",
       "</style>\n",
       "<table border=\"1\" class=\"dataframe\">\n",
       "  <thead>\n",
       "    <tr style=\"text-align: right;\">\n",
       "      <th></th>\n",
       "      <th>userId</th>\n",
       "      <th>movieId</th>\n",
       "      <th>rating</th>\n",
       "      <th>timestamp</th>\n",
       "    </tr>\n",
       "  </thead>\n",
       "  <tbody>\n",
       "    <tr>\n",
       "      <th>0</th>\n",
       "      <td>1</td>\n",
       "      <td>1</td>\n",
       "      <td>4.0</td>\n",
       "      <td>964982703</td>\n",
       "    </tr>\n",
       "    <tr>\n",
       "      <th>1</th>\n",
       "      <td>1</td>\n",
       "      <td>3</td>\n",
       "      <td>4.0</td>\n",
       "      <td>964981247</td>\n",
       "    </tr>\n",
       "    <tr>\n",
       "      <th>2</th>\n",
       "      <td>1</td>\n",
       "      <td>6</td>\n",
       "      <td>4.0</td>\n",
       "      <td>964982224</td>\n",
       "    </tr>\n",
       "    <tr>\n",
       "      <th>3</th>\n",
       "      <td>1</td>\n",
       "      <td>47</td>\n",
       "      <td>5.0</td>\n",
       "      <td>964983815</td>\n",
       "    </tr>\n",
       "    <tr>\n",
       "      <th>4</th>\n",
       "      <td>1</td>\n",
       "      <td>50</td>\n",
       "      <td>5.0</td>\n",
       "      <td>964982931</td>\n",
       "    </tr>\n",
       "    <tr>\n",
       "      <th>...</th>\n",
       "      <td>...</td>\n",
       "      <td>...</td>\n",
       "      <td>...</td>\n",
       "      <td>...</td>\n",
       "    </tr>\n",
       "    <tr>\n",
       "      <th>100831</th>\n",
       "      <td>610</td>\n",
       "      <td>166534</td>\n",
       "      <td>4.0</td>\n",
       "      <td>1493848402</td>\n",
       "    </tr>\n",
       "    <tr>\n",
       "      <th>100832</th>\n",
       "      <td>610</td>\n",
       "      <td>168248</td>\n",
       "      <td>5.0</td>\n",
       "      <td>1493850091</td>\n",
       "    </tr>\n",
       "    <tr>\n",
       "      <th>100833</th>\n",
       "      <td>610</td>\n",
       "      <td>168250</td>\n",
       "      <td>5.0</td>\n",
       "      <td>1494273047</td>\n",
       "    </tr>\n",
       "    <tr>\n",
       "      <th>100834</th>\n",
       "      <td>610</td>\n",
       "      <td>168252</td>\n",
       "      <td>5.0</td>\n",
       "      <td>1493846352</td>\n",
       "    </tr>\n",
       "    <tr>\n",
       "      <th>100835</th>\n",
       "      <td>610</td>\n",
       "      <td>170875</td>\n",
       "      <td>3.0</td>\n",
       "      <td>1493846415</td>\n",
       "    </tr>\n",
       "  </tbody>\n",
       "</table>\n",
       "<p>100836 rows × 4 columns</p>\n",
       "</div>"
      ],
      "text/plain": [
       "        userId  movieId  rating   timestamp\n",
       "0            1        1     4.0   964982703\n",
       "1            1        3     4.0   964981247\n",
       "2            1        6     4.0   964982224\n",
       "3            1       47     5.0   964983815\n",
       "4            1       50     5.0   964982931\n",
       "...        ...      ...     ...         ...\n",
       "100831     610   166534     4.0  1493848402\n",
       "100832     610   168248     5.0  1493850091\n",
       "100833     610   168250     5.0  1494273047\n",
       "100834     610   168252     5.0  1493846352\n",
       "100835     610   170875     3.0  1493846415\n",
       "\n",
       "[100836 rows x 4 columns]"
      ]
     },
     "execution_count": 3,
     "metadata": {},
     "output_type": "execute_result"
    }
   ],
   "source": [
    "ratings_df"
   ]
  },
  {
   "cell_type": "code",
   "execution_count": 4,
   "metadata": {},
   "outputs": [],
   "source": [
    "# user-item matrix\n",
    "user_item_matrix = ratings_df.pivot_table(index='userId', columns='movieId', values='rating')"
   ]
  },
  {
   "cell_type": "code",
   "execution_count": 5,
   "metadata": {},
   "outputs": [
    {
     "data": {
      "text/html": [
       "<div>\n",
       "<style scoped>\n",
       "    .dataframe tbody tr th:only-of-type {\n",
       "        vertical-align: middle;\n",
       "    }\n",
       "\n",
       "    .dataframe tbody tr th {\n",
       "        vertical-align: top;\n",
       "    }\n",
       "\n",
       "    .dataframe thead th {\n",
       "        text-align: right;\n",
       "    }\n",
       "</style>\n",
       "<table border=\"1\" class=\"dataframe\">\n",
       "  <thead>\n",
       "    <tr style=\"text-align: right;\">\n",
       "      <th>movieId</th>\n",
       "      <th>1</th>\n",
       "      <th>2</th>\n",
       "      <th>3</th>\n",
       "      <th>4</th>\n",
       "      <th>5</th>\n",
       "      <th>6</th>\n",
       "      <th>7</th>\n",
       "      <th>8</th>\n",
       "      <th>9</th>\n",
       "      <th>10</th>\n",
       "      <th>...</th>\n",
       "      <th>193565</th>\n",
       "      <th>193567</th>\n",
       "      <th>193571</th>\n",
       "      <th>193573</th>\n",
       "      <th>193579</th>\n",
       "      <th>193581</th>\n",
       "      <th>193583</th>\n",
       "      <th>193585</th>\n",
       "      <th>193587</th>\n",
       "      <th>193609</th>\n",
       "    </tr>\n",
       "    <tr>\n",
       "      <th>userId</th>\n",
       "      <th></th>\n",
       "      <th></th>\n",
       "      <th></th>\n",
       "      <th></th>\n",
       "      <th></th>\n",
       "      <th></th>\n",
       "      <th></th>\n",
       "      <th></th>\n",
       "      <th></th>\n",
       "      <th></th>\n",
       "      <th></th>\n",
       "      <th></th>\n",
       "      <th></th>\n",
       "      <th></th>\n",
       "      <th></th>\n",
       "      <th></th>\n",
       "      <th></th>\n",
       "      <th></th>\n",
       "      <th></th>\n",
       "      <th></th>\n",
       "      <th></th>\n",
       "    </tr>\n",
       "  </thead>\n",
       "  <tbody>\n",
       "    <tr>\n",
       "      <th>1</th>\n",
       "      <td>4.0</td>\n",
       "      <td>NaN</td>\n",
       "      <td>4.0</td>\n",
       "      <td>NaN</td>\n",
       "      <td>NaN</td>\n",
       "      <td>4.0</td>\n",
       "      <td>NaN</td>\n",
       "      <td>NaN</td>\n",
       "      <td>NaN</td>\n",
       "      <td>NaN</td>\n",
       "      <td>...</td>\n",
       "      <td>NaN</td>\n",
       "      <td>NaN</td>\n",
       "      <td>NaN</td>\n",
       "      <td>NaN</td>\n",
       "      <td>NaN</td>\n",
       "      <td>NaN</td>\n",
       "      <td>NaN</td>\n",
       "      <td>NaN</td>\n",
       "      <td>NaN</td>\n",
       "      <td>NaN</td>\n",
       "    </tr>\n",
       "    <tr>\n",
       "      <th>2</th>\n",
       "      <td>NaN</td>\n",
       "      <td>NaN</td>\n",
       "      <td>NaN</td>\n",
       "      <td>NaN</td>\n",
       "      <td>NaN</td>\n",
       "      <td>NaN</td>\n",
       "      <td>NaN</td>\n",
       "      <td>NaN</td>\n",
       "      <td>NaN</td>\n",
       "      <td>NaN</td>\n",
       "      <td>...</td>\n",
       "      <td>NaN</td>\n",
       "      <td>NaN</td>\n",
       "      <td>NaN</td>\n",
       "      <td>NaN</td>\n",
       "      <td>NaN</td>\n",
       "      <td>NaN</td>\n",
       "      <td>NaN</td>\n",
       "      <td>NaN</td>\n",
       "      <td>NaN</td>\n",
       "      <td>NaN</td>\n",
       "    </tr>\n",
       "    <tr>\n",
       "      <th>3</th>\n",
       "      <td>NaN</td>\n",
       "      <td>NaN</td>\n",
       "      <td>NaN</td>\n",
       "      <td>NaN</td>\n",
       "      <td>NaN</td>\n",
       "      <td>NaN</td>\n",
       "      <td>NaN</td>\n",
       "      <td>NaN</td>\n",
       "      <td>NaN</td>\n",
       "      <td>NaN</td>\n",
       "      <td>...</td>\n",
       "      <td>NaN</td>\n",
       "      <td>NaN</td>\n",
       "      <td>NaN</td>\n",
       "      <td>NaN</td>\n",
       "      <td>NaN</td>\n",
       "      <td>NaN</td>\n",
       "      <td>NaN</td>\n",
       "      <td>NaN</td>\n",
       "      <td>NaN</td>\n",
       "      <td>NaN</td>\n",
       "    </tr>\n",
       "    <tr>\n",
       "      <th>4</th>\n",
       "      <td>NaN</td>\n",
       "      <td>NaN</td>\n",
       "      <td>NaN</td>\n",
       "      <td>NaN</td>\n",
       "      <td>NaN</td>\n",
       "      <td>NaN</td>\n",
       "      <td>NaN</td>\n",
       "      <td>NaN</td>\n",
       "      <td>NaN</td>\n",
       "      <td>NaN</td>\n",
       "      <td>...</td>\n",
       "      <td>NaN</td>\n",
       "      <td>NaN</td>\n",
       "      <td>NaN</td>\n",
       "      <td>NaN</td>\n",
       "      <td>NaN</td>\n",
       "      <td>NaN</td>\n",
       "      <td>NaN</td>\n",
       "      <td>NaN</td>\n",
       "      <td>NaN</td>\n",
       "      <td>NaN</td>\n",
       "    </tr>\n",
       "    <tr>\n",
       "      <th>5</th>\n",
       "      <td>4.0</td>\n",
       "      <td>NaN</td>\n",
       "      <td>NaN</td>\n",
       "      <td>NaN</td>\n",
       "      <td>NaN</td>\n",
       "      <td>NaN</td>\n",
       "      <td>NaN</td>\n",
       "      <td>NaN</td>\n",
       "      <td>NaN</td>\n",
       "      <td>NaN</td>\n",
       "      <td>...</td>\n",
       "      <td>NaN</td>\n",
       "      <td>NaN</td>\n",
       "      <td>NaN</td>\n",
       "      <td>NaN</td>\n",
       "      <td>NaN</td>\n",
       "      <td>NaN</td>\n",
       "      <td>NaN</td>\n",
       "      <td>NaN</td>\n",
       "      <td>NaN</td>\n",
       "      <td>NaN</td>\n",
       "    </tr>\n",
       "    <tr>\n",
       "      <th>...</th>\n",
       "      <td>...</td>\n",
       "      <td>...</td>\n",
       "      <td>...</td>\n",
       "      <td>...</td>\n",
       "      <td>...</td>\n",
       "      <td>...</td>\n",
       "      <td>...</td>\n",
       "      <td>...</td>\n",
       "      <td>...</td>\n",
       "      <td>...</td>\n",
       "      <td>...</td>\n",
       "      <td>...</td>\n",
       "      <td>...</td>\n",
       "      <td>...</td>\n",
       "      <td>...</td>\n",
       "      <td>...</td>\n",
       "      <td>...</td>\n",
       "      <td>...</td>\n",
       "      <td>...</td>\n",
       "      <td>...</td>\n",
       "      <td>...</td>\n",
       "    </tr>\n",
       "    <tr>\n",
       "      <th>606</th>\n",
       "      <td>2.5</td>\n",
       "      <td>NaN</td>\n",
       "      <td>NaN</td>\n",
       "      <td>NaN</td>\n",
       "      <td>NaN</td>\n",
       "      <td>NaN</td>\n",
       "      <td>2.5</td>\n",
       "      <td>NaN</td>\n",
       "      <td>NaN</td>\n",
       "      <td>NaN</td>\n",
       "      <td>...</td>\n",
       "      <td>NaN</td>\n",
       "      <td>NaN</td>\n",
       "      <td>NaN</td>\n",
       "      <td>NaN</td>\n",
       "      <td>NaN</td>\n",
       "      <td>NaN</td>\n",
       "      <td>NaN</td>\n",
       "      <td>NaN</td>\n",
       "      <td>NaN</td>\n",
       "      <td>NaN</td>\n",
       "    </tr>\n",
       "    <tr>\n",
       "      <th>607</th>\n",
       "      <td>4.0</td>\n",
       "      <td>NaN</td>\n",
       "      <td>NaN</td>\n",
       "      <td>NaN</td>\n",
       "      <td>NaN</td>\n",
       "      <td>NaN</td>\n",
       "      <td>NaN</td>\n",
       "      <td>NaN</td>\n",
       "      <td>NaN</td>\n",
       "      <td>NaN</td>\n",
       "      <td>...</td>\n",
       "      <td>NaN</td>\n",
       "      <td>NaN</td>\n",
       "      <td>NaN</td>\n",
       "      <td>NaN</td>\n",
       "      <td>NaN</td>\n",
       "      <td>NaN</td>\n",
       "      <td>NaN</td>\n",
       "      <td>NaN</td>\n",
       "      <td>NaN</td>\n",
       "      <td>NaN</td>\n",
       "    </tr>\n",
       "    <tr>\n",
       "      <th>608</th>\n",
       "      <td>2.5</td>\n",
       "      <td>2.0</td>\n",
       "      <td>2.0</td>\n",
       "      <td>NaN</td>\n",
       "      <td>NaN</td>\n",
       "      <td>NaN</td>\n",
       "      <td>NaN</td>\n",
       "      <td>NaN</td>\n",
       "      <td>NaN</td>\n",
       "      <td>4.0</td>\n",
       "      <td>...</td>\n",
       "      <td>NaN</td>\n",
       "      <td>NaN</td>\n",
       "      <td>NaN</td>\n",
       "      <td>NaN</td>\n",
       "      <td>NaN</td>\n",
       "      <td>NaN</td>\n",
       "      <td>NaN</td>\n",
       "      <td>NaN</td>\n",
       "      <td>NaN</td>\n",
       "      <td>NaN</td>\n",
       "    </tr>\n",
       "    <tr>\n",
       "      <th>609</th>\n",
       "      <td>3.0</td>\n",
       "      <td>NaN</td>\n",
       "      <td>NaN</td>\n",
       "      <td>NaN</td>\n",
       "      <td>NaN</td>\n",
       "      <td>NaN</td>\n",
       "      <td>NaN</td>\n",
       "      <td>NaN</td>\n",
       "      <td>NaN</td>\n",
       "      <td>4.0</td>\n",
       "      <td>...</td>\n",
       "      <td>NaN</td>\n",
       "      <td>NaN</td>\n",
       "      <td>NaN</td>\n",
       "      <td>NaN</td>\n",
       "      <td>NaN</td>\n",
       "      <td>NaN</td>\n",
       "      <td>NaN</td>\n",
       "      <td>NaN</td>\n",
       "      <td>NaN</td>\n",
       "      <td>NaN</td>\n",
       "    </tr>\n",
       "    <tr>\n",
       "      <th>610</th>\n",
       "      <td>5.0</td>\n",
       "      <td>NaN</td>\n",
       "      <td>NaN</td>\n",
       "      <td>NaN</td>\n",
       "      <td>NaN</td>\n",
       "      <td>5.0</td>\n",
       "      <td>NaN</td>\n",
       "      <td>NaN</td>\n",
       "      <td>NaN</td>\n",
       "      <td>NaN</td>\n",
       "      <td>...</td>\n",
       "      <td>NaN</td>\n",
       "      <td>NaN</td>\n",
       "      <td>NaN</td>\n",
       "      <td>NaN</td>\n",
       "      <td>NaN</td>\n",
       "      <td>NaN</td>\n",
       "      <td>NaN</td>\n",
       "      <td>NaN</td>\n",
       "      <td>NaN</td>\n",
       "      <td>NaN</td>\n",
       "    </tr>\n",
       "  </tbody>\n",
       "</table>\n",
       "<p>610 rows × 9724 columns</p>\n",
       "</div>"
      ],
      "text/plain": [
       "movieId  1       2       3       4       5       6       7       8       \\\n",
       "userId                                                                    \n",
       "1           4.0     NaN     4.0     NaN     NaN     4.0     NaN     NaN   \n",
       "2           NaN     NaN     NaN     NaN     NaN     NaN     NaN     NaN   \n",
       "3           NaN     NaN     NaN     NaN     NaN     NaN     NaN     NaN   \n",
       "4           NaN     NaN     NaN     NaN     NaN     NaN     NaN     NaN   \n",
       "5           4.0     NaN     NaN     NaN     NaN     NaN     NaN     NaN   \n",
       "...         ...     ...     ...     ...     ...     ...     ...     ...   \n",
       "606         2.5     NaN     NaN     NaN     NaN     NaN     2.5     NaN   \n",
       "607         4.0     NaN     NaN     NaN     NaN     NaN     NaN     NaN   \n",
       "608         2.5     2.0     2.0     NaN     NaN     NaN     NaN     NaN   \n",
       "609         3.0     NaN     NaN     NaN     NaN     NaN     NaN     NaN   \n",
       "610         5.0     NaN     NaN     NaN     NaN     5.0     NaN     NaN   \n",
       "\n",
       "movieId  9       10      ...  193565  193567  193571  193573  193579  193581  \\\n",
       "userId                   ...                                                   \n",
       "1           NaN     NaN  ...     NaN     NaN     NaN     NaN     NaN     NaN   \n",
       "2           NaN     NaN  ...     NaN     NaN     NaN     NaN     NaN     NaN   \n",
       "3           NaN     NaN  ...     NaN     NaN     NaN     NaN     NaN     NaN   \n",
       "4           NaN     NaN  ...     NaN     NaN     NaN     NaN     NaN     NaN   \n",
       "5           NaN     NaN  ...     NaN     NaN     NaN     NaN     NaN     NaN   \n",
       "...         ...     ...  ...     ...     ...     ...     ...     ...     ...   \n",
       "606         NaN     NaN  ...     NaN     NaN     NaN     NaN     NaN     NaN   \n",
       "607         NaN     NaN  ...     NaN     NaN     NaN     NaN     NaN     NaN   \n",
       "608         NaN     4.0  ...     NaN     NaN     NaN     NaN     NaN     NaN   \n",
       "609         NaN     4.0  ...     NaN     NaN     NaN     NaN     NaN     NaN   \n",
       "610         NaN     NaN  ...     NaN     NaN     NaN     NaN     NaN     NaN   \n",
       "\n",
       "movieId  193583  193585  193587  193609  \n",
       "userId                                   \n",
       "1           NaN     NaN     NaN     NaN  \n",
       "2           NaN     NaN     NaN     NaN  \n",
       "3           NaN     NaN     NaN     NaN  \n",
       "4           NaN     NaN     NaN     NaN  \n",
       "5           NaN     NaN     NaN     NaN  \n",
       "...         ...     ...     ...     ...  \n",
       "606         NaN     NaN     NaN     NaN  \n",
       "607         NaN     NaN     NaN     NaN  \n",
       "608         NaN     NaN     NaN     NaN  \n",
       "609         NaN     NaN     NaN     NaN  \n",
       "610         NaN     NaN     NaN     NaN  \n",
       "\n",
       "[610 rows x 9724 columns]"
      ]
     },
     "execution_count": 5,
     "metadata": {},
     "output_type": "execute_result"
    }
   ],
   "source": [
    "user_item_matrix"
   ]
  },
  {
   "cell_type": "markdown",
   "metadata": {},
   "source": [
    "## (b) Implement the user-based collaborative filtering approach, using the Pearson correlation function for computing similarities between users"
   ]
  },
  {
   "cell_type": "markdown",
   "metadata": {},
   "source": [
    "## Person Correlation"
   ]
  },
  {
   "cell_type": "markdown",
   "metadata": {},
   "source": [
    "$$sim(a, b) = \\frac{\\sum_{p \\in P} (r_{a,p} - \\bar{r_a})(r_{b,p} - \\bar{r_b})}{\\sqrt{\\sum_{p \\in P}(r_{a,p} - \\bar{r_a})^2}\\sqrt{\\sum_{p \\in P}(r_{b,p} - \\bar{r_b})^2}}$$"
   ]
  },
  {
   "cell_type": "code",
   "execution_count": 6,
   "metadata": {},
   "outputs": [],
   "source": [
    "from utils.similarity_metrics import sim_itr, pearson_correlation"
   ]
  },
  {
   "cell_type": "code",
   "execution_count": 7,
   "metadata": {},
   "outputs": [],
   "source": [
    "def find_similar_users_with_pearson_sim(user_id, user_item_matrix, num_similar_users):\n",
    "    # User ratings\n",
    "    user_ratings = user_item_matrix.loc[user_id]\n",
    "    #Compute the Pearson correlation between the target user and all other users\n",
    "    correlations = user_item_matrix.apply(lambda row: pearson_correlation(user_ratings, row), axis=1)\n",
    "    #correlations = correlations.drop(user_id)\n",
    "    #Select the num_similar_users most similar users \n",
    "    similar_users = correlations.nlargest(num_similar_users)\n",
    "\n",
    "    return similar_users"
   ]
  },
  {
   "cell_type": "code",
   "execution_count": 8,
   "metadata": {},
   "outputs": [],
   "source": [
    "def find_similar_users_with_ITR_sim(user_id, user_item_matrix, num_similar_users):\n",
    "    # User ratings\n",
    "    user_ratings = user_item_matrix.loc[user_id]\n",
    "    #Compute the Pearson correlation between the target user and all other users\n",
    "    correlations = user_item_matrix.apply(lambda row: sim_itr(user_ratings, row), axis=1)\n",
    "    #correlations = correlations.drop(user_id)\n",
    "    #Select the num_similar_users most similar users \n",
    "    similar_users = correlations.nlargest(num_similar_users)\n",
    "\n",
    "    return similar_users"
   ]
  },
  {
   "cell_type": "markdown",
   "metadata": {},
   "source": [
    "## (c) Implement the prediction function presented in class for predicting movies scores."
   ]
  },
  {
   "cell_type": "markdown",
   "metadata": {},
   "source": [
    "## Prediction function version 1"
   ]
  },
  {
   "cell_type": "markdown",
   "metadata": {},
   "source": [
    "$$pred(a,p)=\\bar{r_a} + \\frac{\\sum_{b \\in N}sim(a,b)*(r_{b,p}-\\bar{r_b})}{\\sum_{b \\in N}sim(a,b)}$$"
   ]
  },
  {
   "cell_type": "markdown",
   "metadata": {},
   "source": [
    "## Prediction function version 2"
   ]
  },
  {
   "cell_type": "markdown",
   "metadata": {},
   "source": [
    "$$pred(a,p)=\\bar{r_a} + \\frac{\\sum_{b \\in N}sim(a,b)*(r_{b,p}-\\bar{r_b})}{\\sum_{b \\in N}|sim(a,b)|}$$"
   ]
  },
  {
   "cell_type": "code",
   "execution_count": 9,
   "metadata": {},
   "outputs": [],
   "source": [
    "from utils.predict_ratings import predict_rating,predict_rating_with_abs"
   ]
  },
  {
   "cell_type": "markdown",
   "metadata": {},
   "source": [
    "## (d) Select a user from the dataset, and for this user, show the 10 most similar users and the 10 most relevant movies that the recommender suggests."
   ]
  },
  {
   "cell_type": "markdown",
   "metadata": {},
   "source": [
    "## Calculate the 10 users most similar to a given user (we consider user 1)"
   ]
  },
  {
   "cell_type": "code",
   "execution_count": 10,
   "metadata": {},
   "outputs": [
    {
     "data": {
      "text/plain": [
       "userId\n",
       "77     1.00000\n",
       "1      1.00000\n",
       "12     1.00000\n",
       "85     1.00000\n",
       "253    1.00000\n",
       "291    1.00000\n",
       "358    1.00000\n",
       "388    1.00000\n",
       "2      1.00000\n",
       "146    0.99905\n",
       "dtype: float64"
      ]
     },
     "execution_count": 10,
     "metadata": {},
     "output_type": "execute_result"
    }
   ],
   "source": [
    "most_similar_users_ps = find_similar_users_with_pearson_sim(1, user_item_matrix,10)\n",
    "most_similar_users_ps"
   ]
  },
  {
   "cell_type": "code",
   "execution_count": 11,
   "metadata": {},
   "outputs": [
    {
     "data": {
      "text/plain": [
       "userId\n",
       "1      0.500000\n",
       "135    0.208966\n",
       "220    0.194920\n",
       "186    0.165334\n",
       "282    0.157513\n",
       "382    0.156432\n",
       "119    0.155264\n",
       "522    0.154891\n",
       "562    0.154257\n",
       "265    0.152466\n",
       "dtype: float64"
      ]
     },
     "execution_count": 11,
     "metadata": {},
     "output_type": "execute_result"
    }
   ],
   "source": [
    "most_similar_users_itr = find_similar_users_with_ITR_sim(1, user_item_matrix,10)\n",
    "most_similar_users_itr"
   ]
  },
  {
   "cell_type": "markdown",
   "metadata": {},
   "source": [
    "## Calculate similarity for each pair of users"
   ]
  },
  {
   "cell_type": "code",
   "execution_count": 12,
   "metadata": {},
   "outputs": [],
   "source": [
    "from utils.similarity_metrics import compute_user_similarity_with_pearson_correlation_all_users,compute_user_similarity_with_ITR_all_users"
   ]
  },
  {
   "cell_type": "code",
   "execution_count": 13,
   "metadata": {},
   "outputs": [],
   "source": [
    "# PEARSON CORRELATION\n",
    "similarities_pearson_correlation = compute_user_similarity_with_pearson_correlation_all_users(user_item_matrix)"
   ]
  },
  {
   "cell_type": "code",
   "execution_count": 14,
   "metadata": {},
   "outputs": [],
   "source": [
    "# ITR CORRELATION\n",
    "similarities_itr = compute_user_similarity_with_ITR_all_users(user_item_matrix)"
   ]
  },
  {
   "cell_type": "markdown",
   "metadata": {},
   "source": [
    "## EXAMPLE--> Prediction version 1 (without abs)"
   ]
  },
  {
   "cell_type": "code",
   "execution_count": 15,
   "metadata": {},
   "outputs": [
    {
     "name": "stdout",
     "output_type": "stream",
     "text": [
      "4.307273090618198\n"
     ]
    }
   ],
   "source": [
    "# Prediction pearson correlation\n",
    "predicted_ratings = predict_rating(1,45,user_item_matrix,similarities_pearson_correlation,0)\n",
    "print(predicted_ratings)"
   ]
  },
  {
   "cell_type": "code",
   "execution_count": 16,
   "metadata": {},
   "outputs": [
    {
     "name": "stdout",
     "output_type": "stream",
     "text": [
      "3.779633924500209\n"
     ]
    }
   ],
   "source": [
    "# Prediction ITR correlation\n",
    "predicted_ratings = predict_rating(1,45,user_item_matrix,similarities_itr,0)\n",
    "print(predicted_ratings)"
   ]
  },
  {
   "cell_type": "code",
   "execution_count": 17,
   "metadata": {},
   "outputs": [
    {
     "name": "stdout",
     "output_type": "stream",
     "text": [
      "4.202119635000858\n"
     ]
    }
   ],
   "source": [
    "# Prediction pearson correlation based on the most similar users (500)\n",
    "predicted_ratings = predict_rating(1,45,user_item_matrix,similarities_pearson_correlation,1)\n",
    "print(predicted_ratings)"
   ]
  },
  {
   "cell_type": "code",
   "execution_count": 18,
   "metadata": {},
   "outputs": [
    {
     "name": "stdout",
     "output_type": "stream",
     "text": [
      "3.779633924500209\n"
     ]
    }
   ],
   "source": [
    "# Prediction ITR correlation based on the most similar users (500)\n",
    "predicted_ratings = predict_rating(1,45,user_item_matrix,similarities_itr,1)\n",
    "print(predicted_ratings)"
   ]
  },
  {
   "cell_type": "markdown",
   "metadata": {},
   "source": [
    "## EXAMPLE--> Prediction version 2 (with abs)"
   ]
  },
  {
   "cell_type": "code",
   "execution_count": 19,
   "metadata": {},
   "outputs": [
    {
     "name": "stdout",
     "output_type": "stream",
     "text": [
      "4.344632581467062\n"
     ]
    }
   ],
   "source": [
    "# Prediction pearson correlation\n",
    "predicted_ratings = predict_rating_with_abs(1,45 ,user_item_matrix,similarities_pearson_correlation,0)\n",
    "print(predicted_ratings)"
   ]
  },
  {
   "cell_type": "code",
   "execution_count": 20,
   "metadata": {},
   "outputs": [
    {
     "name": "stdout",
     "output_type": "stream",
     "text": [
      "3.779633924500209\n"
     ]
    }
   ],
   "source": [
    "# Prediction ITR correlation\n",
    "predicted_ratings = predict_rating_with_abs(1,45 ,user_item_matrix,similarities_itr,0)\n",
    "print(predicted_ratings)"
   ]
  },
  {
   "cell_type": "code",
   "execution_count": 21,
   "metadata": {},
   "outputs": [
    {
     "name": "stdout",
     "output_type": "stream",
     "text": [
      "4.2314844582719235\n"
     ]
    }
   ],
   "source": [
    "# Prediction pearson correlation based on the most similar users (500)\n",
    "predicted_ratings = predict_rating_with_abs(1,45,user_item_matrix,similarities_pearson_correlation,1)\n",
    "print(predicted_ratings)"
   ]
  },
  {
   "cell_type": "code",
   "execution_count": 22,
   "metadata": {},
   "outputs": [
    {
     "name": "stdout",
     "output_type": "stream",
     "text": [
      "3.779633924500209\n"
     ]
    }
   ],
   "source": [
    "# Prediction ITR correlation based on the most similar users (500)\n",
    "predicted_ratings = predict_rating_with_abs(1,45,user_item_matrix,similarities_itr,1)\n",
    "print(predicted_ratings)"
   ]
  },
  {
   "cell_type": "markdown",
   "metadata": {},
   "source": [
    "## Show the 10 most relevant movies that the recommender system suggests"
   ]
  },
  {
   "cell_type": "code",
   "execution_count": 23,
   "metadata": {},
   "outputs": [],
   "source": [
    "def top_recommended_movies(user_id, user_item_matrix, user_similarity, num_recommendations, most_similar):\n",
    "    # Inizializza una lista per memorizzare i rating previsti per i film non valutati dall'utente\n",
    "    predicted_ratings = []\n",
    "\n",
    "    # Ottieni gli ID dei film che l'utente non ha ancora valutato\n",
    "    unrated_movies = user_item_matrix.columns[user_item_matrix.loc[user_id].isnull()]\n",
    "\n",
    "    # Calcola i rating previsti per ogni film non valutato dall'utente\n",
    "    for item_id in unrated_movies:\n",
    "        predicted_rating = predict_rating(user_id, item_id, user_item_matrix, user_similarity,most_similar)\n",
    "        predicted_ratings.append((item_id, predicted_rating))\n",
    "\n",
    "    # Ordina i rating previsti in ordine decrescente e seleziona i primi 10 film\n",
    "    top_recommendations = sorted(predicted_ratings, key=lambda x: x[1], reverse=True)[:num_recommendations]\n",
    "\n",
    "    return top_recommendations"
   ]
  },
  {
   "cell_type": "code",
   "execution_count": 24,
   "metadata": {},
   "outputs": [],
   "source": [
    "def top_recommended_movies_abs(user_id, user_item_matrix, user_similarity, num_recommendations,most_similar):\n",
    "    # Inizializza una lista per memorizzare i rating previsti per i film non valutati dall'utente\n",
    "    predicted_ratings = []\n",
    "\n",
    "    # Ottieni gli ID dei film che l'utente non ha ancora valutato\n",
    "    unrated_movies = user_item_matrix.columns[user_item_matrix.loc[user_id].isnull()]\n",
    "\n",
    "    # Calcola i rating previsti per ogni film non valutato dall'utente\n",
    "    for item_id in unrated_movies:\n",
    "        predicted_rating = predict_rating_with_abs(user_id, item_id, user_item_matrix, user_similarity,most_similar)\n",
    "        predicted_ratings.append((item_id, predicted_rating))\n",
    "\n",
    "    # Ordina i rating previsti in ordine decrescente e seleziona i primi 10 film\n",
    "    top_recommendations = sorted(predicted_ratings, key=lambda x: x[1], reverse=True)[:num_recommendations]\n",
    "\n",
    "    return top_recommendations"
   ]
  },
  {
   "cell_type": "code",
   "execution_count": null,
   "metadata": {},
   "outputs": [],
   "source": [
    "user_id = 1"
   ]
  },
  {
   "cell_type": "code",
   "execution_count": 25,
   "metadata": {},
   "outputs": [
    {
     "name": "stdout",
     "output_type": "stream",
     "text": [
      "Top 10 movie recommended for the user  1 :\n",
      "1. Movie ID: 2149, Rating: 741.9235272304575\n",
      "2. Movie ID: 112175, Rating: 594.2060362311458\n",
      "3. Movie ID: 7937, Rating: 110.9038139020465\n",
      "4. Movie ID: 1572, Rating: 110.4038139020465\n",
      "5. Movie ID: 7820, Rating: 73.76696876551378\n",
      "6. Movie ID: 2506, Rating: 49.328585517638814\n",
      "7. Movie ID: 93721, Rating: 40.87049968693897\n",
      "8. Movie ID: 167018, Rating: 39.81059426475158\n",
      "9. Movie ID: 494, Rating: 37.15884434387721\n",
      "10. Movie ID: 8405, Rating: 37.130123628981075\n"
     ]
    }
   ],
   "source": [
    "recommendations = top_recommended_movies(user_id, user_item_matrix, similarities_pearson_correlation,10,0)\n",
    "print(\"Top 10 movie recommended for the user \", user_id, \":\")\n",
    "for idx, (movie_id, predicted_rating) in enumerate(recommendations, start=1):\n",
    "    print(f\"{idx}. Movie ID: {movie_id}, Rating: {predicted_rating}\")\n"
   ]
  },
  {
   "cell_type": "code",
   "execution_count": 26,
   "metadata": {},
   "outputs": [
    {
     "name": "stdout",
     "output_type": "stream",
     "text": [
      "Top 10 movie recommended for the user  1 :\n",
      "1. Movie ID: 5105, Rating: 7.7909482758620685\n",
      "2. Movie ID: 6967, Rating: 7.7909482758620685\n",
      "3. Movie ID: 7114, Rating: 7.7909482758620685\n",
      "4. Movie ID: 7742, Rating: 7.7909482758620685\n",
      "5. Movie ID: 175475, Rating: 7.571603190941842\n",
      "6. Movie ID: 184641, Rating: 7.571603190941842\n",
      "7. Movie ID: 168712, Rating: 7.462533156498673\n",
      "8. Movie ID: 3604, Rating: 7.3393522833178\n",
      "9. Movie ID: 97024, Rating: 7.144950738916256\n",
      "10. Movie ID: 40491, Rating: 7.120924764890281\n"
     ]
    }
   ],
   "source": [
    "recommendations = top_recommended_movies_abs(user_id, user_item_matrix, similarities_pearson_correlation,10,0)\n",
    "print(\"Top 10 movie recommended for the user \", user_id, \":\")\n",
    "for idx, (movie_id, predicted_rating) in enumerate(recommendations, start=1):\n",
    "    print(f\"{idx}. Movie ID: {movie_id}, Rating: {predicted_rating}\")"
   ]
  },
  {
   "cell_type": "code",
   "execution_count": 27,
   "metadata": {},
   "outputs": [
    {
     "name": "stdout",
     "output_type": "stream",
     "text": [
      "Top 10 movies recommended for user 1 :\n",
      "1. Movie ID: 4863, Rating: 21.284233286094768\n",
      "2. Movie ID: 4466, Rating: 18.31042084194599\n",
      "3. Movie ID: 302, Rating: 16.911547326967884\n",
      "4. Movie ID: 1428, Rating: 13.48934049475781\n",
      "5. Movie ID: 725, Rating: 12.974513706486515\n",
      "6. Movie ID: 645, Rating: 10.820103131460371\n",
      "7. Movie ID: 7883, Rating: 10.188643352865974\n",
      "8. Movie ID: 8482, Rating: 10.188643352865974\n",
      "9. Movie ID: 8521, Rating: 10.188643352865974\n",
      "10. Movie ID: 4794, Rating: 9.215199701824469\n"
     ]
    }
   ],
   "source": [
    "recommendations = top_recommended_movies(user_id, user_item_matrix, similarities_pearson_correlation,10,1)\n",
    "print(\"Top 10 movies recommended for user\", user_id, \":\")\n",
    "for idx, (movie_id, predicted_rating) in enumerate(recommendations, start=1):\n",
    "    print(f\"{idx}. Movie ID: {movie_id}, Rating: {predicted_rating}\")"
   ]
  },
  {
   "cell_type": "code",
   "execution_count": 28,
   "metadata": {},
   "outputs": [
    {
     "name": "stdout",
     "output_type": "stream",
     "text": [
      "Top 10 movies recommended for user 1 :\n",
      "1. Movie ID: 4517, Rating: 7.7909482758620685\n",
      "2. Movie ID: 5105, Rating: 7.7909482758620685\n",
      "3. Movie ID: 6967, Rating: 7.7909482758620685\n",
      "4. Movie ID: 7114, Rating: 7.7909482758620685\n",
      "5. Movie ID: 7742, Rating: 7.7909482758620685\n",
      "6. Movie ID: 97024, Rating: 7.144950738916256\n",
      "7. Movie ID: 40491, Rating: 7.120924764890281\n",
      "8. Movie ID: 5746, Rating: 6.930481874447391\n",
      "9. Movie ID: 5919, Rating: 6.930481874447391\n",
      "10. Movie ID: 6835, Rating: 6.930481874447391\n"
     ]
    }
   ],
   "source": [
    "recommendations = top_recommended_movies_abs(user_id, user_item_matrix, similarities_pearson_correlation,10,1)\n",
    "print(\"Top 10 movies recommended for user\", user_id, \":\")\n",
    "for idx, (movie_id, predicted_rating) in enumerate(recommendations, start=1):\n",
    "    print(f\"{idx}. Movie ID: {movie_id}, Rating: {predicted_rating}\")"
   ]
  },
  {
   "cell_type": "markdown",
   "metadata": {},
   "source": [
    "## (e) Design and implement a new similarity function for computing similarities between\n",
    "## users. Explain why this similarity function is useful for the collaborative filtering approach.\n",
    "## Hint: Exploiting ideas from related works are highly encouraged."
   ]
  },
  {
   "cell_type": "markdown",
   "metadata": {},
   "source": [
    "### In the paper: \"Similarity measures for Collaborative Filtering-based Recommender Systems\" ITR provides the best result on MovieLens datasets. This is the main reason that led me to choose to implement this metric."
   ]
  },
  {
   "cell_type": "markdown",
   "metadata": {},
   "source": [
    "##"
   ]
  },
  {
   "cell_type": "code",
   "execution_count": 29,
   "metadata": {},
   "outputs": [
    {
     "name": "stdout",
     "output_type": "stream",
     "text": [
      "Top 10 film raccomandati per l'utente 1 :\n",
      "1. Film ID: 6818, Rating previsto: 7.120924764890281\n",
      "2. Film ID: 8477, Rating previsto: 7.120924764890281\n",
      "3. Film ID: 40491, Rating previsto: 7.120924764890281\n",
      "4. Film ID: 148881, Rating previsto: 7.120922747003081\n",
      "5. Film ID: 3266, Rating previsto: 7.120099543444331\n",
      "6. Film ID: 99764, Rating previsto: 7.111497128791824\n",
      "7. Film ID: 5746, Rating previsto: 6.930481874447391\n",
      "8. Film ID: 6835, Rating previsto: 6.930481874447391\n",
      "9. Film ID: 7991, Rating previsto: 6.930477171065139\n",
      "10. Film ID: 2851, Rating previsto: 6.930381115085179\n"
     ]
    }
   ],
   "source": [
    "similarities_ITR_correlation = similarities_itr\n",
    "recommendations = top_recommended_movies(user_id, user_item_matrix, similarities_ITR_correlation,10,0)\n",
    "print(\"Top 10 film raccomandati per l'utente\", user_id, \":\")\n",
    "for idx, (movie_id, predicted_rating) in enumerate(recommendations, start=1):\n",
    "    print(f\"{idx}. Film ID: {movie_id}, Rating previsto: {predicted_rating}\")"
   ]
  },
  {
   "cell_type": "code",
   "execution_count": 30,
   "metadata": {},
   "outputs": [
    {
     "name": "stdout",
     "output_type": "stream",
     "text": [
      "Top 10 film raccomandati per l'utente 1 :\n",
      "1. Film ID: 6818, Rating previsto: 7.120924764890281\n",
      "2. Film ID: 8477, Rating previsto: 7.120924764890281\n",
      "3. Film ID: 40491, Rating previsto: 7.120924764890281\n",
      "4. Film ID: 148881, Rating previsto: 7.120922747003081\n",
      "5. Film ID: 3266, Rating previsto: 7.120099543444331\n",
      "6. Film ID: 99764, Rating previsto: 7.111497128791824\n",
      "7. Film ID: 5746, Rating previsto: 6.930481874447391\n",
      "8. Film ID: 6835, Rating previsto: 6.930481874447391\n",
      "9. Film ID: 7991, Rating previsto: 6.930477171065139\n",
      "10. Film ID: 2851, Rating previsto: 6.930381115085179\n"
     ]
    }
   ],
   "source": [
    "similarities_ITR_correlation = similarities_itr\n",
    "recommendations = top_recommended_movies(user_id, user_item_matrix, similarities_ITR_correlation,10,1)\n",
    "print(\"Top 10 film raccomandati per l'utente\", user_id, \":\")\n",
    "for idx, (movie_id, predicted_rating) in enumerate(recommendations, start=1):\n",
    "    print(f\"{idx}. Film ID: {movie_id}, Rating previsto: {predicted_rating}\")"
   ]
  }
 ],
 "metadata": {
  "kernelspec": {
   "display_name": "ATCS",
   "language": "python",
   "name": "python3"
  },
  "language_info": {
   "codemirror_mode": {
    "name": "ipython",
    "version": 3
   },
   "file_extension": ".py",
   "mimetype": "text/x-python",
   "name": "python",
   "nbconvert_exporter": "python",
   "pygments_lexer": "ipython3",
   "version": "3.11.8"
  }
 },
 "nbformat": 4,
 "nbformat_minor": 2
}
